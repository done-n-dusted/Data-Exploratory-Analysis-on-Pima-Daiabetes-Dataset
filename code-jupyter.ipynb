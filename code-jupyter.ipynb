{
 "cells": [
  {
   "cell_type": "code",
   "execution_count": 855,
   "metadata": {},
   "outputs": [],
   "source": [
    "#Importing required libraries to perform calculations, build models and make plots.\n",
    "import numpy as np\n",
    "import pandas as pd\n",
    "# import random\n",
    "import matplotlib.pyplot as plt\n",
    "import seaborn as sns\n",
    "from sklearn import datasets, linear_model, preprocessing\n",
    "from sklearn.metrics import classification_report\n",
    "from sklearn.linear_model import LogisticRegression\n",
    "from sklearn.decomposition import PCA\n",
    "from sklearn.model_selection import train_test_split\n",
    "from sklearn.preprocessing import StandardScaler"
   ]
  },
  {
   "cell_type": "code",
   "execution_count": 856,
   "metadata": {},
   "outputs": [],
   "source": [
    "#Reading data from a file and creating a dataframe in pandas\n",
    "data = pd.read_csv('Pima_Indian_diabetes.csv')"
   ]
  },
  {
   "cell_type": "markdown",
   "metadata": {},
   "source": [
    "# Exploratory Data Analysis"
   ]
  },
  {
   "cell_type": "code",
   "execution_count": 857,
   "metadata": {},
   "outputs": [],
   "source": [
    "'''\n",
    "This is utility function it is used to plot density histogram of the given data.\n",
    "'''\n",
    "def plotDensityHistogram(data):\n",
    "    sns.distplot(data, hist=True, kde=True, bins=int(180/5), color = 'darkblue', hist_kws={'edgecolor':'black'}, kde_kws={'linewidth': 4})"
   ]
  },
  {
   "cell_type": "code",
   "execution_count": 858,
   "metadata": {
    "scrolled": true
   },
   "outputs": [
    {
     "data": {
      "text/html": [
       "<div>\n",
       "<style scoped>\n",
       "    .dataframe tbody tr th:only-of-type {\n",
       "        vertical-align: middle;\n",
       "    }\n",
       "\n",
       "    .dataframe tbody tr th {\n",
       "        vertical-align: top;\n",
       "    }\n",
       "\n",
       "    .dataframe thead th {\n",
       "        text-align: right;\n",
       "    }\n",
       "</style>\n",
       "<table border=\"1\" class=\"dataframe\">\n",
       "  <thead>\n",
       "    <tr style=\"text-align: right;\">\n",
       "      <th></th>\n",
       "      <th>Pregnancies</th>\n",
       "      <th>Glucose</th>\n",
       "      <th>BloodPressure</th>\n",
       "      <th>SkinThickness</th>\n",
       "      <th>Insulin</th>\n",
       "      <th>BMI</th>\n",
       "      <th>DiabetesPedigreeFunction</th>\n",
       "      <th>Age</th>\n",
       "      <th>Outcome</th>\n",
       "    </tr>\n",
       "  </thead>\n",
       "  <tbody>\n",
       "    <tr>\n",
       "      <th>count</th>\n",
       "      <td>742.000000</td>\n",
       "      <td>752.000000</td>\n",
       "      <td>768.000000</td>\n",
       "      <td>746.000000</td>\n",
       "      <td>768.000000</td>\n",
       "      <td>757.000000</td>\n",
       "      <td>768.000000</td>\n",
       "      <td>749.000000</td>\n",
       "      <td>768.000000</td>\n",
       "    </tr>\n",
       "    <tr>\n",
       "      <th>mean</th>\n",
       "      <td>3.866601</td>\n",
       "      <td>119.966097</td>\n",
       "      <td>68.886078</td>\n",
       "      <td>20.309879</td>\n",
       "      <td>79.799479</td>\n",
       "      <td>31.711151</td>\n",
       "      <td>0.471876</td>\n",
       "      <td>33.761336</td>\n",
       "      <td>0.348958</td>\n",
       "    </tr>\n",
       "    <tr>\n",
       "      <th>std</th>\n",
       "      <td>3.479971</td>\n",
       "      <td>32.367659</td>\n",
       "      <td>19.427448</td>\n",
       "      <td>15.974523</td>\n",
       "      <td>115.244002</td>\n",
       "      <td>8.544789</td>\n",
       "      <td>0.331329</td>\n",
       "      <td>12.297409</td>\n",
       "      <td>0.476951</td>\n",
       "    </tr>\n",
       "    <tr>\n",
       "      <th>min</th>\n",
       "      <td>-5.412815</td>\n",
       "      <td>0.000000</td>\n",
       "      <td>-3.496455</td>\n",
       "      <td>-11.945520</td>\n",
       "      <td>0.000000</td>\n",
       "      <td>-16.288921</td>\n",
       "      <td>0.078000</td>\n",
       "      <td>21.000000</td>\n",
       "      <td>0.000000</td>\n",
       "    </tr>\n",
       "    <tr>\n",
       "      <th>25%</th>\n",
       "      <td>1.000000</td>\n",
       "      <td>99.000000</td>\n",
       "      <td>62.000000</td>\n",
       "      <td>0.000000</td>\n",
       "      <td>0.000000</td>\n",
       "      <td>27.100000</td>\n",
       "      <td>0.243750</td>\n",
       "      <td>24.000000</td>\n",
       "      <td>0.000000</td>\n",
       "    </tr>\n",
       "    <tr>\n",
       "      <th>50%</th>\n",
       "      <td>3.000000</td>\n",
       "      <td>116.000000</td>\n",
       "      <td>72.000000</td>\n",
       "      <td>23.000000</td>\n",
       "      <td>30.500000</td>\n",
       "      <td>32.000000</td>\n",
       "      <td>0.372500</td>\n",
       "      <td>29.000000</td>\n",
       "      <td>0.000000</td>\n",
       "    </tr>\n",
       "    <tr>\n",
       "      <th>75%</th>\n",
       "      <td>6.000000</td>\n",
       "      <td>140.000000</td>\n",
       "      <td>80.000000</td>\n",
       "      <td>32.000000</td>\n",
       "      <td>127.250000</td>\n",
       "      <td>36.500000</td>\n",
       "      <td>0.626250</td>\n",
       "      <td>41.000000</td>\n",
       "      <td>1.000000</td>\n",
       "    </tr>\n",
       "    <tr>\n",
       "      <th>max</th>\n",
       "      <td>17.000000</td>\n",
       "      <td>199.000000</td>\n",
       "      <td>122.000000</td>\n",
       "      <td>99.000000</td>\n",
       "      <td>846.000000</td>\n",
       "      <td>67.100000</td>\n",
       "      <td>2.420000</td>\n",
       "      <td>81.000000</td>\n",
       "      <td>1.000000</td>\n",
       "    </tr>\n",
       "  </tbody>\n",
       "</table>\n",
       "</div>"
      ],
      "text/plain": [
       "       Pregnancies     Glucose  BloodPressure  SkinThickness     Insulin  \\\n",
       "count   742.000000  752.000000     768.000000     746.000000  768.000000   \n",
       "mean      3.866601  119.966097      68.886078      20.309879   79.799479   \n",
       "std       3.479971   32.367659      19.427448      15.974523  115.244002   \n",
       "min      -5.412815    0.000000      -3.496455     -11.945520    0.000000   \n",
       "25%       1.000000   99.000000      62.000000       0.000000    0.000000   \n",
       "50%       3.000000  116.000000      72.000000      23.000000   30.500000   \n",
       "75%       6.000000  140.000000      80.000000      32.000000  127.250000   \n",
       "max      17.000000  199.000000     122.000000      99.000000  846.000000   \n",
       "\n",
       "              BMI  DiabetesPedigreeFunction         Age     Outcome  \n",
       "count  757.000000                768.000000  749.000000  768.000000  \n",
       "mean    31.711151                  0.471876   33.761336    0.348958  \n",
       "std      8.544789                  0.331329   12.297409    0.476951  \n",
       "min    -16.288921                  0.078000   21.000000    0.000000  \n",
       "25%     27.100000                  0.243750   24.000000    0.000000  \n",
       "50%     32.000000                  0.372500   29.000000    0.000000  \n",
       "75%     36.500000                  0.626250   41.000000    1.000000  \n",
       "max     67.100000                  2.420000   81.000000    1.000000  "
      ]
     },
     "execution_count": 858,
     "metadata": {},
     "output_type": "execute_result"
    }
   ],
   "source": [
    "data.describe()"
   ]
  },
  {
   "cell_type": "code",
   "execution_count": 859,
   "metadata": {},
   "outputs": [
    {
     "data": {
      "image/png": "[encoded data removed]",
      "text/plain": [
       "<matplotlib.figure.Figure at 0x7fc37c082630>"
      ]
     },
     "metadata": {
      "needs_background": "light"
     },
     "output_type": "display_data"
    }
   ],
   "source": [
    "#Calculating the no of NaN values in the data set and plotting the count\n",
    "preg_nancount = len(data[data.Pregnancies.isna()].index)\n",
    "st_nancount = len(data[data.SkinThickness.isna()].index)\n",
    "bp_nancount = len(data[data.BloodPressure.isna()].index)\n",
    "glu_nancount = len(data[data.Glucose.isna()].index)\n",
    "in_nancount = len(data[data.Insulin.isna()].index)\n",
    "bmi_nancount = len(data[data.BMI.isna()].index)\n",
    "dpf_nancount = len(data[data.DiabetesPedigreeFunction.isna()].index)\n",
    "age_nancount = len(data[data.Age.isna()].index)\n",
    "nan_count = {}\n",
    "nan_count['Pregnancy'] = preg_nancount\n",
    "nan_count['Gluc'] = glu_nancount\n",
    "nan_count['BP'] = bp_nancount\n",
    "nan_count['ST'] = st_nancount\n",
    "nan_count['Insu'] = in_nancount\n",
    "nan_count['BMI'] = bmi_nancount\n",
    "nan_count['DPF'] = dpf_nancount\n",
    "nan_count['age'] = age_nancount\n",
    "nan_count\n",
    "\n",
    "nan_c = pd.DataFrame.from_dict(nan_count, orient = 'index')\n",
    "nan_c_values = nan_c[0]\n",
    "nan_c\n",
    "plt.bar(nan_c.index, height = nan_c[0])\n",
    "plt.title('Missing Values Histogram')\n",
    "plt.xlabel('Parameter')\n",
    "plt.ylabel('No of Missing Values')\n",
    "plt.show()"
   ]
  },
  {
   "cell_type": "markdown",
   "metadata": {},
   "source": []
  },
  {
   "cell_type": "code",
   "execution_count": 860,
   "metadata": {},
   "outputs": [
    {
     "data": {
      "text/plain": [
       "<matplotlib.axes._subplots.AxesSubplot at 0x7fc37c04ae10>"
      ]
     },
     "execution_count": 860,
     "metadata": {},
     "output_type": "execute_result"
    },
    {
     "data": {
      "image/png": "[encoded data removed]",
      "text/plain": [
       "<matplotlib.figure.Figure at 0x7fc37c04a8d0>"
      ]
     },
     "metadata": {
      "needs_background": "light"
     },
     "output_type": "display_data"
    }
   ],
   "source": [
    "data['Pregnancies'].plot.kde(title = \"Pregnancy density distribution\")"
   ]
  },
  {
   "cell_type": "code",
   "execution_count": 861,
   "metadata": {},
   "outputs": [
    {
     "data": {
      "text/plain": [
       "<matplotlib.axes._subplots.AxesSubplot at 0x7fc37c04a940>"
      ]
     },
     "execution_count": 861,
     "metadata": {},
     "output_type": "execute_result"
    },
    {
     "data": {
      "image/png": "[encoded data removed]",
      "text/plain": [
       "<matplotlib.figure.Figure at 0x7fc37bfef128>"
      ]
     },
     "metadata": {
      "needs_background": "light"
     },
     "output_type": "display_data"
    }
   ],
   "source": [
    "data['Glucose'].plot.kde(title = \"Glucose density distribution\")"
   ]
  },
  {
   "cell_type": "code",
   "execution_count": 862,
   "metadata": {},
   "outputs": [
    {
     "data": {
      "text/plain": [
       "<matplotlib.axes._subplots.AxesSubplot at 0x7fc37c265588>"
      ]
     },
     "execution_count": 862,
     "metadata": {},
     "output_type": "execute_result"
    },
    {
     "data": {
      "image/png": "[encoded data removed]",
      "text/plain": [
       "<matplotlib.figure.Figure at 0x7fc37cadbc18>"
      ]
     },
     "metadata": {
      "needs_background": "light"
     },
     "output_type": "display_data"
    }
   ],
   "source": [
    "data['BloodPressure'].plot.kde(title = \"BloodPressure density distribution\")"
   ]
  },
  {
   "cell_type": "code",
   "execution_count": 863,
   "metadata": {},
   "outputs": [
    {
     "data": {
      "text/plain": [
       "<matplotlib.axes._subplots.AxesSubplot at 0x7fc37c772b00>"
      ]
     },
     "execution_count": 863,
     "metadata": {},
     "output_type": "execute_result"
    },
    {
     "data": {
      "image/png": "[encoded data removed]",
      "text/plain": [
       "<matplotlib.figure.Figure at 0x7fc37c7f07f0>"
      ]
     },
     "metadata": {
      "needs_background": "light"
     },
     "output_type": "display_data"
    }
   ],
   "source": [
    "data['SkinThickness'].plot.kde(title = \"SkinThickness density distribution\")"
   ]
  },
  {
   "cell_type": "code",
   "execution_count": 864,
   "metadata": {},
   "outputs": [
    {
     "data": {
      "text/plain": [
       "<matplotlib.axes._subplots.AxesSubplot at 0x7fc37c319f60>"
      ]
     },
     "execution_count": 864,
     "metadata": {},
     "output_type": "execute_result"
    },
    {
     "data": {
      "image/png": "[encoded data removed]",
      "text/plain": [
       "<matplotlib.figure.Figure at 0x7fc37c560a20>"
      ]
     },
     "metadata": {
      "needs_background": "light"
     },
     "output_type": "display_data"
    }
   ],
   "source": [
    "data['Insulin'].plot.kde(title = \"Insulin density distribution\")"
   ]
  },
  {
   "cell_type": "code",
   "execution_count": 865,
   "metadata": {},
   "outputs": [
    {
     "data": {
      "text/plain": [
       "<matplotlib.axes._subplots.AxesSubplot at 0x7fc37cd9ab00>"
      ]
     },
     "execution_count": 865,
     "metadata": {},
     "output_type": "execute_result"
    },
    {
     "data": {
      "image/png": "[encoded data removed]",
      "text/plain": [
       "<matplotlib.figure.Figure at 0x7fc37c772588>"
      ]
     },
     "metadata": {
      "needs_background": "light"
     },
     "output_type": "display_data"
    }
   ],
   "source": [
    "data['BMI'].plot.kde(title = \"BMI density distribution\")"
   ]
  },
  {
   "cell_type": "code",
   "execution_count": 866,
   "metadata": {},
   "outputs": [
    {
     "data": {
      "text/plain": [
       "<matplotlib.axes._subplots.AxesSubplot at 0x7fc37c3fe320>"
      ]
     },
     "execution_count": 866,
     "metadata": {},
     "output_type": "execute_result"
    },
    {
     "data": {
      "image/png": "[encoded data removed]",
      "text/plain": [
       "<matplotlib.figure.Figure at 0x7fc37cfd7208>"
      ]
     },
     "metadata": {
      "needs_background": "light"
     },
     "output_type": "display_data"
    }
   ],
   "source": [
    "data['Age'].plot.kde(title = \"Age density distribution\")"
   ]
  },
  {
   "cell_type": "code",
   "execution_count": 867,
   "metadata": {},
   "outputs": [
    {
     "data": {
      "text/plain": [
       "<matplotlib.axes._subplots.AxesSubplot at 0x7fc37c03b278>"
      ]
     },
     "execution_count": 867,
     "metadata": {},
     "output_type": "execute_result"
    },
    {
     "data": {
      "image/png": "[encoded data removed]",
      "text/plain": [
       "<matplotlib.figure.Figure at 0x7fc37c8ebe48>"
      ]
     },
     "metadata": {
      "needs_background": "light"
     },
     "output_type": "display_data"
    }
   ],
   "source": [
    "data['DiabetesPedigreeFunction'].plot.kde(title = \"DiabetesPedigreeFunction density distribution\")"
   ]
  },
  {
   "cell_type": "code",
   "execution_count": 868,
   "metadata": {},
   "outputs": [
    {
     "data": {
      "image/png": "[encoded data removed]",
      "text/plain": [
       "<matplotlib.figure.Figure at 0x7fc37c03b940>"
      ]
     },
     "metadata": {
      "needs_background": "light"
     },
     "output_type": "display_data"
    }
   ],
   "source": [
    "plotDensityHistogram(data[\"Pregnancies\"].dropna(how = 'all'))"
   ]
  },
  {
   "cell_type": "code",
   "execution_count": 869,
   "metadata": {},
   "outputs": [
    {
     "data": {
      "image/png": "[encoded data removed]",
      "text/plain": [
       "<matplotlib.figure.Figure at 0x7fc37c08e9b0>"
      ]
     },
     "metadata": {
      "needs_background": "light"
     },
     "output_type": "display_data"
    }
   ],
   "source": [
    "plotDensityHistogram(data[\"Glucose\"].dropna(how = 'all'))"
   ]
  },
  {
   "cell_type": "code",
   "execution_count": 870,
   "metadata": {},
   "outputs": [
    {
     "data": {
      "image/png": "[encoded data removed]",
      "text/plain": [
       "<matplotlib.figure.Figure at 0x7fc37c6787f0>"
      ]
     },
     "metadata": {
      "needs_background": "light"
     },
     "output_type": "display_data"
    }
   ],
   "source": [
    "plotDensityHistogram(data[\"BloodPressure\"].dropna(how = 'all'))\n"
   ]
  },
  {
   "cell_type": "code",
   "execution_count": 871,
   "metadata": {},
   "outputs": [
    {
     "data": {
      "image/png": "[encoded data removed]",
      "text/plain": [
       "<matplotlib.figure.Figure at 0x7fc37c9eae80>"
      ]
     },
     "metadata": {
      "needs_background": "light"
     },
     "output_type": "display_data"
    }
   ],
   "source": [
    "plotDensityHistogram(data[\"SkinThickness\"].dropna(how = 'all'))"
   ]
  },
  {
   "cell_type": "code",
   "execution_count": 872,
   "metadata": {},
   "outputs": [
    {
     "data": {
      "image/png": "[encoded data removed]",
      "text/plain": [
       "<matplotlib.figure.Figure at 0x7fc37c947e48>"
      ]
     },
     "metadata": {
      "needs_background": "light"
     },
     "output_type": "display_data"
    }
   ],
   "source": [
    "plotDensityHistogram(data[\"Insulin\"].dropna(how = 'all'))"
   ]
  },
  {
   "cell_type": "code",
   "execution_count": 873,
   "metadata": {},
   "outputs": [
    {
     "data": {
      "image/png": "[encoded data removed]",
      "text/plain": [
       "<matplotlib.figure.Figure at 0x7fc37d13eeb8>"
      ]
     },
     "metadata": {
      "needs_background": "light"
     },
     "output_type": "display_data"
    }
   ],
   "source": [
    "plotDensityHistogram(data[\"BMI\"].dropna(how = 'all'))"
   ]
  },
  {
   "cell_type": "code",
   "execution_count": 874,
   "metadata": {},
   "outputs": [
    {
     "data": {
      "image/png": "[encoded data removed]",
      "text/plain": [
       "<matplotlib.figure.Figure at 0x7fc37c7316a0>"
      ]
     },
     "metadata": {
      "needs_background": "light"
     },
     "output_type": "display_data"
    }
   ],
   "source": [
    "plotDensityHistogram(data[\"Age\"].dropna(how = 'all'))\n"
   ]
  },
  {
   "cell_type": "code",
   "execution_count": 875,
   "metadata": {},
   "outputs": [
    {
     "data": {
      "image/png": "[encoded data removed]",
      "text/plain": [
       "<matplotlib.figure.Figure at 0x7fc37c7a38d0>"
      ]
     },
     "metadata": {
      "needs_background": "light"
     },
     "output_type": "display_data"
    }
   ],
   "source": [
    "plotDensityHistogram(data[\"DiabetesPedigreeFunction\"].dropna(how = 'all'))"
   ]
  },
  {
   "cell_type": "markdown",
   "metadata": {},
   "source": [
    "# Data PrePreocessing"
   ]
  },
  {
   "cell_type": "code",
   "execution_count": 876,
   "metadata": {},
   "outputs": [],
   "source": [
    "#making all the ilegal values of every features NaN in the dataframe\n",
    "data.loc[data['SkinThickness'] <= 0, 'SkinThickness'] = np.NaN\n",
    "data.loc[data['Pregnancies'] < 0, 'Pregnancies'] = np.NaN\n",
    "data.loc[data['Glucose'] <= 0, 'Glucose'] = np.NaN\n",
    "data.loc[data['BloodPressure'] <= 0, 'BloodPressure'] = np.NaN\n",
    "data.loc[data['BMI'] <= 0, 'BMI'] = np.NaN\n",
    "data.loc[data['Insulin'] <= 0, 'Insulin'] = np.NaN\n"
   ]
  },
  {
   "cell_type": "code",
   "execution_count": 877,
   "metadata": {},
   "outputs": [],
   "source": [
    "#making all the values of Pregnancies column NaN if it is not an integer\n",
    "pregs = np.array(data['Pregnancies'])\n",
    "for i in range(len(pregs)):\n",
    "    if not pregs[i].is_integer():\n",
    "        pregs[i] = np.NaN\n",
    "data['Pregnancies'] =  pregs"
   ]
  },
  {
   "cell_type": "code",
   "execution_count": 878,
   "metadata": {},
   "outputs": [
    {
     "data": {
      "image/png": "[encoded data removed]",
      "text/plain": [
       "<matplotlib.figure.Figure at 0x7fc37c082400>"
      ]
     },
     "metadata": {
      "needs_background": "light"
     },
     "output_type": "display_data"
    }
   ],
   "source": [
    "#Calculating the no of NaN/incorrect values in the data set and plotting the count\n",
    "preg_nancount = len(data[data.Pregnancies.isna()].index)\n",
    "st_nancount = len(data[data.SkinThickness.isna()].index)\n",
    "bp_nancount = len(data[data.BloodPressure.isna()].index)\n",
    "glu_nancount = len(data[data.Glucose.isna()].index)\n",
    "in_nancount = len(data[data.Insulin.isna()].index)\n",
    "bmi_nancount = len(data[data.BMI.isna()].index)\n",
    "dpf_nancount = len(data[data.DiabetesPedigreeFunction.isna()].index)\n",
    "age_nancount = len(data[data.Age.isna()].index)\n",
    "nan_count = {}\n",
    "nan_count['Preg'] = preg_nancount\n",
    "nan_count['Glu'] = glu_nancount\n",
    "nan_count['BP'] = bp_nancount\n",
    "nan_count['ST'] = st_nancount\n",
    "nan_count['Insu'] = in_nancount\n",
    "nan_count['BMI'] = bmi_nancount\n",
    "nan_count['DPF'] = dpf_nancount\n",
    "nan_count['age'] = age_nancount\n",
    "nan_count\n",
    "\n",
    "nan_c = pd.DataFrame.from_dict(nan_count, orient = 'index')\n",
    "nan_c_values = nan_c[0]\n",
    "nan_c\n",
    "plt.bar(nan_c.index, height = nan_c[0])\n",
    "plt.title('Incorrrect Data')\n",
    "plt.ylabel('Count')\n",
    "plt.show()"
   ]
  },
  {
   "cell_type": "code",
   "execution_count": 879,
   "metadata": {},
   "outputs": [],
   "source": [
    "#Removing rows with NaN in BloodPressure\n",
    "data = data.drop(data[data.BloodPressure.isna()].index, axis = 0)"
   ]
  },
  {
   "cell_type": "code",
   "execution_count": 880,
   "metadata": {},
   "outputs": [],
   "source": [
    "#Removing raws with NaN in Glucose\n",
    "data = data.drop(data[data.Glucose.isna()].index, axis = 0)"
   ]
  },
  {
   "cell_type": "code",
   "execution_count": 881,
   "metadata": {},
   "outputs": [
    {
     "data": {
      "text/html": [
       "<div>\n",
       "<style scoped>\n",
       "    .dataframe tbody tr th:only-of-type {\n",
       "        vertical-align: middle;\n",
       "    }\n",
       "\n",
       "    .dataframe tbody tr th {\n",
       "        vertical-align: top;\n",
       "    }\n",
       "\n",
       "    .dataframe thead th {\n",
       "        text-align: right;\n",
       "    }\n",
       "</style>\n",
       "<table border=\"1\" class=\"dataframe\">\n",
       "  <thead>\n",
       "    <tr style=\"text-align: right;\">\n",
       "      <th></th>\n",
       "      <th>Pregnancies</th>\n",
       "      <th>Glucose</th>\n",
       "      <th>BloodPressure</th>\n",
       "      <th>SkinThickness</th>\n",
       "      <th>Insulin</th>\n",
       "      <th>BMI</th>\n",
       "      <th>DiabetesPedigreeFunction</th>\n",
       "      <th>Age</th>\n",
       "      <th>Outcome</th>\n",
       "    </tr>\n",
       "  </thead>\n",
       "  <tbody>\n",
       "    <tr>\n",
       "      <th>count</th>\n",
       "      <td>668.000000</td>\n",
       "      <td>712.000000</td>\n",
       "      <td>712.000000</td>\n",
       "      <td>506.000000</td>\n",
       "      <td>381.000000</td>\n",
       "      <td>695.000000</td>\n",
       "      <td>712.000000</td>\n",
       "      <td>694.000000</td>\n",
       "      <td>712.000000</td>\n",
       "    </tr>\n",
       "    <tr>\n",
       "      <th>mean</th>\n",
       "      <td>3.836826</td>\n",
       "      <td>120.963081</td>\n",
       "      <td>72.159634</td>\n",
       "      <td>28.899778</td>\n",
       "      <td>155.241470</td>\n",
       "      <td>32.434736</td>\n",
       "      <td>0.477538</td>\n",
       "      <td>33.724529</td>\n",
       "      <td>0.345506</td>\n",
       "    </tr>\n",
       "    <tr>\n",
       "      <th>std</th>\n",
       "      <td>3.361573</td>\n",
       "      <td>31.040408</td>\n",
       "      <td>12.573856</td>\n",
       "      <td>10.559644</td>\n",
       "      <td>119.326264</td>\n",
       "      <td>7.098789</td>\n",
       "      <td>0.336771</td>\n",
       "      <td>12.059196</td>\n",
       "      <td>0.475867</td>\n",
       "    </tr>\n",
       "    <tr>\n",
       "      <th>min</th>\n",
       "      <td>0.000000</td>\n",
       "      <td>42.974768</td>\n",
       "      <td>15.372031</td>\n",
       "      <td>7.000000</td>\n",
       "      <td>14.000000</td>\n",
       "      <td>6.699051</td>\n",
       "      <td>0.078000</td>\n",
       "      <td>21.000000</td>\n",
       "      <td>0.000000</td>\n",
       "    </tr>\n",
       "    <tr>\n",
       "      <th>25%</th>\n",
       "      <td>1.000000</td>\n",
       "      <td>99.000000</td>\n",
       "      <td>64.000000</td>\n",
       "      <td>21.000000</td>\n",
       "      <td>76.000000</td>\n",
       "      <td>27.500000</td>\n",
       "      <td>0.245000</td>\n",
       "      <td>24.000000</td>\n",
       "      <td>0.000000</td>\n",
       "    </tr>\n",
       "    <tr>\n",
       "      <th>50%</th>\n",
       "      <td>3.000000</td>\n",
       "      <td>116.500000</td>\n",
       "      <td>72.000000</td>\n",
       "      <td>29.000000</td>\n",
       "      <td>125.000000</td>\n",
       "      <td>32.400000</td>\n",
       "      <td>0.380000</td>\n",
       "      <td>29.000000</td>\n",
       "      <td>0.000000</td>\n",
       "    </tr>\n",
       "    <tr>\n",
       "      <th>75%</th>\n",
       "      <td>6.000000</td>\n",
       "      <td>140.118555</td>\n",
       "      <td>80.000000</td>\n",
       "      <td>36.000000</td>\n",
       "      <td>190.000000</td>\n",
       "      <td>36.600000</td>\n",
       "      <td>0.629500</td>\n",
       "      <td>41.000000</td>\n",
       "      <td>1.000000</td>\n",
       "    </tr>\n",
       "    <tr>\n",
       "      <th>max</th>\n",
       "      <td>17.000000</td>\n",
       "      <td>199.000000</td>\n",
       "      <td>122.000000</td>\n",
       "      <td>99.000000</td>\n",
       "      <td>846.000000</td>\n",
       "      <td>67.100000</td>\n",
       "      <td>2.420000</td>\n",
       "      <td>70.000000</td>\n",
       "      <td>1.000000</td>\n",
       "    </tr>\n",
       "  </tbody>\n",
       "</table>\n",
       "</div>"
      ],
      "text/plain": [
       "       Pregnancies     Glucose  BloodPressure  SkinThickness     Insulin  \\\n",
       "count   668.000000  712.000000     712.000000     506.000000  381.000000   \n",
       "mean      3.836826  120.963081      72.159634      28.899778  155.241470   \n",
       "std       3.361573   31.040408      12.573856      10.559644  119.326264   \n",
       "min       0.000000   42.974768      15.372031       7.000000   14.000000   \n",
       "25%       1.000000   99.000000      64.000000      21.000000   76.000000   \n",
       "50%       3.000000  116.500000      72.000000      29.000000  125.000000   \n",
       "75%       6.000000  140.118555      80.000000      36.000000  190.000000   \n",
       "max      17.000000  199.000000     122.000000      99.000000  846.000000   \n",
       "\n",
       "              BMI  DiabetesPedigreeFunction         Age     Outcome  \n",
       "count  695.000000                712.000000  694.000000  712.000000  \n",
       "mean    32.434736                  0.477538   33.724529    0.345506  \n",
       "std      7.098789                  0.336771   12.059196    0.475867  \n",
       "min      6.699051                  0.078000   21.000000    0.000000  \n",
       "25%     27.500000                  0.245000   24.000000    0.000000  \n",
       "50%     32.400000                  0.380000   29.000000    0.000000  \n",
       "75%     36.600000                  0.629500   41.000000    1.000000  \n",
       "max     67.100000                  2.420000   70.000000    1.000000  "
      ]
     },
     "execution_count": 881,
     "metadata": {},
     "output_type": "execute_result"
    }
   ],
   "source": [
    "data.describe()"
   ]
  },
  {
   "cell_type": "code",
   "execution_count": 882,
   "metadata": {},
   "outputs": [
    {
     "data": {
      "text/html": [
       "<div>\n",
       "<style scoped>\n",
       "    .dataframe tbody tr th:only-of-type {\n",
       "        vertical-align: middle;\n",
       "    }\n",
       "\n",
       "    .dataframe tbody tr th {\n",
       "        vertical-align: top;\n",
       "    }\n",
       "\n",
       "    .dataframe thead th {\n",
       "        text-align: right;\n",
       "    }\n",
       "</style>\n",
       "<table border=\"1\" class=\"dataframe\">\n",
       "  <thead>\n",
       "    <tr style=\"text-align: right;\">\n",
       "      <th></th>\n",
       "      <th>Pregnancies</th>\n",
       "      <th>Glucose</th>\n",
       "      <th>BloodPressure</th>\n",
       "      <th>SkinThickness</th>\n",
       "      <th>Insulin</th>\n",
       "      <th>BMI</th>\n",
       "      <th>DiabetesPedigreeFunction</th>\n",
       "      <th>Age</th>\n",
       "      <th>Outcome</th>\n",
       "    </tr>\n",
       "  </thead>\n",
       "  <tbody>\n",
       "    <tr>\n",
       "      <th>Pregnancies</th>\n",
       "      <td>1.000000</td>\n",
       "      <td>0.124790</td>\n",
       "      <td>0.208128</td>\n",
       "      <td>0.097101</td>\n",
       "      <td>0.056462</td>\n",
       "      <td>-0.001636</td>\n",
       "      <td>-0.053676</td>\n",
       "      <td>0.515770</td>\n",
       "      <td>0.218899</td>\n",
       "    </tr>\n",
       "    <tr>\n",
       "      <th>Glucose</th>\n",
       "      <td>0.124790</td>\n",
       "      <td>1.000000</td>\n",
       "      <td>0.201763</td>\n",
       "      <td>0.237871</td>\n",
       "      <td>0.585062</td>\n",
       "      <td>0.193236</td>\n",
       "      <td>0.121224</td>\n",
       "      <td>0.250313</td>\n",
       "      <td>0.489716</td>\n",
       "    </tr>\n",
       "    <tr>\n",
       "      <th>BloodPressure</th>\n",
       "      <td>0.208128</td>\n",
       "      <td>0.201763</td>\n",
       "      <td>1.000000</td>\n",
       "      <td>0.211671</td>\n",
       "      <td>0.103649</td>\n",
       "      <td>0.292120</td>\n",
       "      <td>-0.001444</td>\n",
       "      <td>0.306953</td>\n",
       "      <td>0.169194</td>\n",
       "    </tr>\n",
       "    <tr>\n",
       "      <th>SkinThickness</th>\n",
       "      <td>0.097101</td>\n",
       "      <td>0.237871</td>\n",
       "      <td>0.211671</td>\n",
       "      <td>1.000000</td>\n",
       "      <td>0.187089</td>\n",
       "      <td>0.625212</td>\n",
       "      <td>0.129319</td>\n",
       "      <td>0.116579</td>\n",
       "      <td>0.261451</td>\n",
       "    </tr>\n",
       "    <tr>\n",
       "      <th>Insulin</th>\n",
       "      <td>0.056462</td>\n",
       "      <td>0.585062</td>\n",
       "      <td>0.103649</td>\n",
       "      <td>0.187089</td>\n",
       "      <td>1.000000</td>\n",
       "      <td>0.226882</td>\n",
       "      <td>0.130003</td>\n",
       "      <td>0.191785</td>\n",
       "      <td>0.294302</td>\n",
       "    </tr>\n",
       "    <tr>\n",
       "      <th>BMI</th>\n",
       "      <td>-0.001636</td>\n",
       "      <td>0.193236</td>\n",
       "      <td>0.292120</td>\n",
       "      <td>0.625212</td>\n",
       "      <td>0.226882</td>\n",
       "      <td>1.000000</td>\n",
       "      <td>0.167731</td>\n",
       "      <td>0.035747</td>\n",
       "      <td>0.286202</td>\n",
       "    </tr>\n",
       "    <tr>\n",
       "      <th>DiabetesPedigreeFunction</th>\n",
       "      <td>-0.053676</td>\n",
       "      <td>0.121224</td>\n",
       "      <td>-0.001444</td>\n",
       "      <td>0.129319</td>\n",
       "      <td>0.130003</td>\n",
       "      <td>0.167731</td>\n",
       "      <td>1.000000</td>\n",
       "      <td>0.021906</td>\n",
       "      <td>0.176391</td>\n",
       "    </tr>\n",
       "    <tr>\n",
       "      <th>Age</th>\n",
       "      <td>0.515770</td>\n",
       "      <td>0.250313</td>\n",
       "      <td>0.306953</td>\n",
       "      <td>0.116579</td>\n",
       "      <td>0.191785</td>\n",
       "      <td>0.035747</td>\n",
       "      <td>0.021906</td>\n",
       "      <td>1.000000</td>\n",
       "      <td>0.233001</td>\n",
       "    </tr>\n",
       "    <tr>\n",
       "      <th>Outcome</th>\n",
       "      <td>0.218899</td>\n",
       "      <td>0.489716</td>\n",
       "      <td>0.169194</td>\n",
       "      <td>0.261451</td>\n",
       "      <td>0.294302</td>\n",
       "      <td>0.286202</td>\n",
       "      <td>0.176391</td>\n",
       "      <td>0.233001</td>\n",
       "      <td>1.000000</td>\n",
       "    </tr>\n",
       "  </tbody>\n",
       "</table>\n",
       "</div>"
      ],
      "text/plain": [
       "                          Pregnancies   Glucose  BloodPressure  SkinThickness  \\\n",
       "Pregnancies                  1.000000  0.124790       0.208128       0.097101   \n",
       "Glucose                      0.124790  1.000000       0.201763       0.237871   \n",
       "BloodPressure                0.208128  0.201763       1.000000       0.211671   \n",
       "SkinThickness                0.097101  0.237871       0.211671       1.000000   \n",
       "Insulin                      0.056462  0.585062       0.103649       0.187089   \n",
       "BMI                         -0.001636  0.193236       0.292120       0.625212   \n",
       "DiabetesPedigreeFunction    -0.053676  0.121224      -0.001444       0.129319   \n",
       "Age                          0.515770  0.250313       0.306953       0.116579   \n",
       "Outcome                      0.218899  0.489716       0.169194       0.261451   \n",
       "\n",
       "                           Insulin       BMI  DiabetesPedigreeFunction  \\\n",
       "Pregnancies               0.056462 -0.001636                 -0.053676   \n",
       "Glucose                   0.585062  0.193236                  0.121224   \n",
       "BloodPressure             0.103649  0.292120                 -0.001444   \n",
       "SkinThickness             0.187089  0.625212                  0.129319   \n",
       "Insulin                   1.000000  0.226882                  0.130003   \n",
       "BMI                       0.226882  1.000000                  0.167731   \n",
       "DiabetesPedigreeFunction  0.130003  0.167731                  1.000000   \n",
       "Age                       0.191785  0.035747                  0.021906   \n",
       "Outcome                   0.294302  0.286202                  0.176391   \n",
       "\n",
       "                               Age   Outcome  \n",
       "Pregnancies               0.515770  0.218899  \n",
       "Glucose                   0.250313  0.489716  \n",
       "BloodPressure             0.306953  0.169194  \n",
       "SkinThickness             0.116579  0.261451  \n",
       "Insulin                   0.191785  0.294302  \n",
       "BMI                       0.035747  0.286202  \n",
       "DiabetesPedigreeFunction  0.021906  0.176391  \n",
       "Age                       1.000000  0.233001  \n",
       "Outcome                   0.233001  1.000000  "
      ]
     },
     "execution_count": 882,
     "metadata": {},
     "output_type": "execute_result"
    }
   ],
   "source": [
    "#Correlation Matrix\n",
    "data.corr()"
   ]
  },
  {
   "cell_type": "code",
   "execution_count": 883,
   "metadata": {},
   "outputs": [
    {
     "data": {
      "image/png": "[encoded data removed]",
      "text/plain": [
       "<matplotlib.figure.Figure at 0x7fc37bf3e6d8>"
      ]
     },
     "metadata": {
      "needs_background": "light"
     },
     "output_type": "display_data"
    }
   ],
   "source": [
    "heat_map = sns.heatmap(data.corr(), annot = True)"
   ]
  },
  {
   "cell_type": "code",
   "execution_count": 884,
   "metadata": {},
   "outputs": [],
   "source": [
    "#Replacing NaN with mode or median in Pregnancies, BMI, Age\n",
    "data['Pregnancies'] = data['Pregnancies'].fillna(data['Pregnancies'].mode()[0])\n",
    "data['BMI'] = data['BMI'].fillna(data['BMI'].mode()[0])                            \n",
    "data['Age'] = data['Age'].fillna(data['Age'].mode()[0])"
   ]
  },
  {
   "cell_type": "code",
   "execution_count": 885,
   "metadata": {},
   "outputs": [
    {
     "data": {
      "image/png": "[encoded data removed]",
      "text/plain": [
       "<matplotlib.figure.Figure at 0x7fc37bf3e978>"
      ]
     },
     "metadata": {
      "needs_background": "light"
     },
     "output_type": "display_data"
    }
   ],
   "source": [
    "plt.scatter(data['Glucose'], data['Insulin'] )\n",
    "plt.title('Scatter plot Glucose vs Insulin')\n",
    "plt.xlabel('Glucose')\n",
    "plt.ylabel('Insulin')\n",
    "plt.show()\n"
   ]
  },
  {
   "cell_type": "code",
   "execution_count": 886,
   "metadata": {},
   "outputs": [
    {
     "data": {
      "image/png": "[encoded data removed]",
      "text/plain": [
       "<matplotlib.figure.Figure at 0x7fc37bd7c518>"
      ]
     },
     "metadata": {
      "needs_background": "light"
     },
     "output_type": "display_data"
    }
   ],
   "source": [
    "plt.scatter(data['BMI'], data['SkinThickness'] )\n",
    "plt.title('Scatter plot BMI vs SkinTickness')\n",
    "plt.xlabel('BMI')\n",
    "plt.ylabel('SkinThickness')\n",
    "plt.show()"
   ]
  },
  {
   "cell_type": "markdown",
   "metadata": {},
   "source": [
    "# Linear Regression"
   ]
  },
  {
   "cell_type": "code",
   "execution_count": 887,
   "metadata": {},
   "outputs": [],
   "source": [
    "'''\n",
    "linearRegressionPrediction takes data, inp_fearures, out_features.\n",
    "in_features are used to impute the missing values of out_features using multivarailte LinearRegression.\n",
    "'''\n",
    "def linearRegressionPrediction(data, inp_features, out_feature):\n",
    "    #creating a copy of the actual data\n",
    "    dat = data.copy()\n",
    "    #droping all the data points whose out_feature attribute is NaN, this data will be used to fit linear regression model\n",
    "    \n",
    "    noNaNdata = dat.drop(dat[out_feature].index[dat[out_feature].apply(np.isnan)], axis = 0)\n",
    "    \n",
    "    #all the data points whose values of out_features are missing are stored in the variable tobepredicted \n",
    "    tobepredicted = dat[inp_features].loc[dat[out_feature].index[dat[out_feature].apply(np.isnan)]]\n",
    "    \n",
    "    \n",
    "    df = pd.DataFrame(noNaNdata, columns = inp_features)\n",
    "    target = pd.DataFrame(noNaNdata, columns = [out_feature])\n",
    "    \n",
    "    lm = linear_model.LinearRegression()\n",
    "    \n",
    "    model = lm.fit(df, target)\n",
    "    \n",
    "    #predicting the missing values of out_features in 'tobepredicted' .\n",
    "    prediction_values = lm.predict(np.array(tobepredicted[inp_features]))\n",
    "    \n",
    "    #this function returns the predicted values for missing data and the corresponding indices of the midding values \n",
    "    return (np.matrix.transpose(np.array(prediction_values))[0], np.array(dat[out_feature].index[dat[out_feature].apply(np.isnan)]))"
   ]
  },
  {
   "cell_type": "markdown",
   "metadata": {},
   "source": [
    "# Missing Data Handling"
   ]
  },
  {
   "cell_type": "code",
   "execution_count": 888,
   "metadata": {},
   "outputs": [
    {
     "name": "stderr",
     "output_type": "stream",
     "text": [
      "/usr/lib/python3/dist-packages/pandas/core/indexing.py:194: SettingWithCopyWarning: \n",
      "A value is trying to be set on a copy of a slice from a DataFrame\n",
      "\n",
      "See the caveats in the documentation: http://pandas.pydata.org/pandas-docs/stable/indexing.html#indexing-view-versus-copy\n",
      "  self._setitem_with_indexer(indexer, value)\n"
     ]
    },
    {
     "data": {
      "text/html": [
       "<div>\n",
       "<style scoped>\n",
       "    .dataframe tbody tr th:only-of-type {\n",
       "        vertical-align: middle;\n",
       "    }\n",
       "\n",
       "    .dataframe tbody tr th {\n",
       "        vertical-align: top;\n",
       "    }\n",
       "\n",
       "    .dataframe thead th {\n",
       "        text-align: right;\n",
       "    }\n",
       "</style>\n",
       "<table border=\"1\" class=\"dataframe\">\n",
       "  <thead>\n",
       "    <tr style=\"text-align: right;\">\n",
       "      <th></th>\n",
       "      <th>Pregnancies</th>\n",
       "      <th>Glucose</th>\n",
       "      <th>BloodPressure</th>\n",
       "      <th>SkinThickness</th>\n",
       "      <th>Insulin</th>\n",
       "      <th>BMI</th>\n",
       "      <th>DiabetesPedigreeFunction</th>\n",
       "      <th>Age</th>\n",
       "      <th>Outcome</th>\n",
       "    </tr>\n",
       "  </thead>\n",
       "  <tbody>\n",
       "    <tr>\n",
       "      <th>count</th>\n",
       "      <td>712.000000</td>\n",
       "      <td>712.000000</td>\n",
       "      <td>712.000000</td>\n",
       "      <td>712.000000</td>\n",
       "      <td>381.000000</td>\n",
       "      <td>712.000000</td>\n",
       "      <td>712.000000</td>\n",
       "      <td>712.000000</td>\n",
       "      <td>712.000000</td>\n",
       "    </tr>\n",
       "    <tr>\n",
       "      <th>mean</th>\n",
       "      <td>3.661517</td>\n",
       "      <td>120.963081</td>\n",
       "      <td>72.159634</td>\n",
       "      <td>28.501143</td>\n",
       "      <td>155.241470</td>\n",
       "      <td>32.414805</td>\n",
       "      <td>0.477538</td>\n",
       "      <td>33.428122</td>\n",
       "      <td>0.345506</td>\n",
       "    </tr>\n",
       "    <tr>\n",
       "      <th>std</th>\n",
       "      <td>3.326877</td>\n",
       "      <td>31.040408</td>\n",
       "      <td>12.573856</td>\n",
       "      <td>9.573556</td>\n",
       "      <td>119.326264</td>\n",
       "      <td>7.014569</td>\n",
       "      <td>0.336771</td>\n",
       "      <td>12.047187</td>\n",
       "      <td>0.475867</td>\n",
       "    </tr>\n",
       "    <tr>\n",
       "      <th>min</th>\n",
       "      <td>0.000000</td>\n",
       "      <td>42.974768</td>\n",
       "      <td>15.372031</td>\n",
       "      <td>4.453716</td>\n",
       "      <td>14.000000</td>\n",
       "      <td>6.699051</td>\n",
       "      <td>0.078000</td>\n",
       "      <td>21.000000</td>\n",
       "      <td>0.000000</td>\n",
       "    </tr>\n",
       "    <tr>\n",
       "      <th>25%</th>\n",
       "      <td>1.000000</td>\n",
       "      <td>99.000000</td>\n",
       "      <td>64.000000</td>\n",
       "      <td>22.000000</td>\n",
       "      <td>76.000000</td>\n",
       "      <td>27.600000</td>\n",
       "      <td>0.245000</td>\n",
       "      <td>24.000000</td>\n",
       "      <td>0.000000</td>\n",
       "    </tr>\n",
       "    <tr>\n",
       "      <th>50%</th>\n",
       "      <td>3.000000</td>\n",
       "      <td>116.500000</td>\n",
       "      <td>72.000000</td>\n",
       "      <td>28.000000</td>\n",
       "      <td>125.000000</td>\n",
       "      <td>32.050000</td>\n",
       "      <td>0.380000</td>\n",
       "      <td>29.000000</td>\n",
       "      <td>0.000000</td>\n",
       "    </tr>\n",
       "    <tr>\n",
       "      <th>75%</th>\n",
       "      <td>6.000000</td>\n",
       "      <td>140.118555</td>\n",
       "      <td>80.000000</td>\n",
       "      <td>34.444238</td>\n",
       "      <td>190.000000</td>\n",
       "      <td>36.500000</td>\n",
       "      <td>0.629500</td>\n",
       "      <td>41.000000</td>\n",
       "      <td>1.000000</td>\n",
       "    </tr>\n",
       "    <tr>\n",
       "      <th>max</th>\n",
       "      <td>17.000000</td>\n",
       "      <td>199.000000</td>\n",
       "      <td>122.000000</td>\n",
       "      <td>99.000000</td>\n",
       "      <td>846.000000</td>\n",
       "      <td>67.100000</td>\n",
       "      <td>2.420000</td>\n",
       "      <td>70.000000</td>\n",
       "      <td>1.000000</td>\n",
       "    </tr>\n",
       "  </tbody>\n",
       "</table>\n",
       "</div>"
      ],
      "text/plain": [
       "       Pregnancies     Glucose  BloodPressure  SkinThickness     Insulin  \\\n",
       "count   712.000000  712.000000     712.000000     712.000000  381.000000   \n",
       "mean      3.661517  120.963081      72.159634      28.501143  155.241470   \n",
       "std       3.326877   31.040408      12.573856       9.573556  119.326264   \n",
       "min       0.000000   42.974768      15.372031       4.453716   14.000000   \n",
       "25%       1.000000   99.000000      64.000000      22.000000   76.000000   \n",
       "50%       3.000000  116.500000      72.000000      28.000000  125.000000   \n",
       "75%       6.000000  140.118555      80.000000      34.444238  190.000000   \n",
       "max      17.000000  199.000000     122.000000      99.000000  846.000000   \n",
       "\n",
       "              BMI  DiabetesPedigreeFunction         Age     Outcome  \n",
       "count  712.000000                712.000000  712.000000  712.000000  \n",
       "mean    32.414805                  0.477538   33.428122    0.345506  \n",
       "std      7.014569                  0.336771   12.047187    0.475867  \n",
       "min      6.699051                  0.078000   21.000000    0.000000  \n",
       "25%     27.600000                  0.245000   24.000000    0.000000  \n",
       "50%     32.050000                  0.380000   29.000000    0.000000  \n",
       "75%     36.500000                  0.629500   41.000000    1.000000  \n",
       "max     67.100000                  2.420000   70.000000    1.000000  "
      ]
     },
     "execution_count": 888,
     "metadata": {},
     "output_type": "execute_result"
    }
   ],
   "source": [
    "predicted_values, nanIdx = linearRegressionPrediction(data, ['BMI'], 'SkinThickness')\n",
    "data['SkinThickness'].loc[nanIdx] = predicted_values\n",
    "data.describe()"
   ]
  },
  {
   "cell_type": "code",
   "execution_count": 889,
   "metadata": {},
   "outputs": [
    {
     "name": "stderr",
     "output_type": "stream",
     "text": [
      "/usr/lib/python3/dist-packages/pandas/core/indexing.py:194: SettingWithCopyWarning: \n",
      "A value is trying to be set on a copy of a slice from a DataFrame\n",
      "\n",
      "See the caveats in the documentation: http://pandas.pydata.org/pandas-docs/stable/indexing.html#indexing-view-versus-copy\n",
      "  self._setitem_with_indexer(indexer, value)\n"
     ]
    },
    {
     "data": {
      "text/html": [
       "<div>\n",
       "<style scoped>\n",
       "    .dataframe tbody tr th:only-of-type {\n",
       "        vertical-align: middle;\n",
       "    }\n",
       "\n",
       "    .dataframe tbody tr th {\n",
       "        vertical-align: top;\n",
       "    }\n",
       "\n",
       "    .dataframe thead th {\n",
       "        text-align: right;\n",
       "    }\n",
       "</style>\n",
       "<table border=\"1\" class=\"dataframe\">\n",
       "  <thead>\n",
       "    <tr style=\"text-align: right;\">\n",
       "      <th></th>\n",
       "      <th>Pregnancies</th>\n",
       "      <th>Glucose</th>\n",
       "      <th>BloodPressure</th>\n",
       "      <th>SkinThickness</th>\n",
       "      <th>Insulin</th>\n",
       "      <th>BMI</th>\n",
       "      <th>DiabetesPedigreeFunction</th>\n",
       "      <th>Age</th>\n",
       "      <th>Outcome</th>\n",
       "    </tr>\n",
       "  </thead>\n",
       "  <tbody>\n",
       "    <tr>\n",
       "      <th>count</th>\n",
       "      <td>712.000000</td>\n",
       "      <td>712.000000</td>\n",
       "      <td>712.000000</td>\n",
       "      <td>712.000000</td>\n",
       "      <td>712.000000</td>\n",
       "      <td>712.000000</td>\n",
       "      <td>712.000000</td>\n",
       "      <td>712.000000</td>\n",
       "      <td>712.000000</td>\n",
       "    </tr>\n",
       "    <tr>\n",
       "      <th>mean</th>\n",
       "      <td>3.661517</td>\n",
       "      <td>120.963081</td>\n",
       "      <td>72.159634</td>\n",
       "      <td>28.501143</td>\n",
       "      <td>153.842420</td>\n",
       "      <td>32.414805</td>\n",
       "      <td>0.477538</td>\n",
       "      <td>33.428122</td>\n",
       "      <td>0.345506</td>\n",
       "    </tr>\n",
       "    <tr>\n",
       "      <th>std</th>\n",
       "      <td>3.326877</td>\n",
       "      <td>31.040408</td>\n",
       "      <td>12.573856</td>\n",
       "      <td>9.573556</td>\n",
       "      <td>99.072382</td>\n",
       "      <td>7.014569</td>\n",
       "      <td>0.336771</td>\n",
       "      <td>12.047187</td>\n",
       "      <td>0.475867</td>\n",
       "    </tr>\n",
       "    <tr>\n",
       "      <th>min</th>\n",
       "      <td>0.000000</td>\n",
       "      <td>42.974768</td>\n",
       "      <td>15.372031</td>\n",
       "      <td>4.453716</td>\n",
       "      <td>-18.121266</td>\n",
       "      <td>6.699051</td>\n",
       "      <td>0.078000</td>\n",
       "      <td>21.000000</td>\n",
       "      <td>0.000000</td>\n",
       "    </tr>\n",
       "    <tr>\n",
       "      <th>25%</th>\n",
       "      <td>1.000000</td>\n",
       "      <td>99.000000</td>\n",
       "      <td>64.000000</td>\n",
       "      <td>22.000000</td>\n",
       "      <td>89.128299</td>\n",
       "      <td>27.600000</td>\n",
       "      <td>0.245000</td>\n",
       "      <td>24.000000</td>\n",
       "      <td>0.000000</td>\n",
       "    </tr>\n",
       "    <tr>\n",
       "      <th>50%</th>\n",
       "      <td>3.000000</td>\n",
       "      <td>116.500000</td>\n",
       "      <td>72.000000</td>\n",
       "      <td>28.000000</td>\n",
       "      <td>131.581251</td>\n",
       "      <td>32.050000</td>\n",
       "      <td>0.380000</td>\n",
       "      <td>29.000000</td>\n",
       "      <td>0.000000</td>\n",
       "    </tr>\n",
       "    <tr>\n",
       "      <th>75%</th>\n",
       "      <td>6.000000</td>\n",
       "      <td>140.118555</td>\n",
       "      <td>80.000000</td>\n",
       "      <td>34.444238</td>\n",
       "      <td>190.250000</td>\n",
       "      <td>36.500000</td>\n",
       "      <td>0.629500</td>\n",
       "      <td>41.000000</td>\n",
       "      <td>1.000000</td>\n",
       "    </tr>\n",
       "    <tr>\n",
       "      <th>max</th>\n",
       "      <td>17.000000</td>\n",
       "      <td>199.000000</td>\n",
       "      <td>122.000000</td>\n",
       "      <td>99.000000</td>\n",
       "      <td>846.000000</td>\n",
       "      <td>67.100000</td>\n",
       "      <td>2.420000</td>\n",
       "      <td>70.000000</td>\n",
       "      <td>1.000000</td>\n",
       "    </tr>\n",
       "  </tbody>\n",
       "</table>\n",
       "</div>"
      ],
      "text/plain": [
       "       Pregnancies     Glucose  BloodPressure  SkinThickness     Insulin  \\\n",
       "count   712.000000  712.000000     712.000000     712.000000  712.000000   \n",
       "mean      3.661517  120.963081      72.159634      28.501143  153.842420   \n",
       "std       3.326877   31.040408      12.573856       9.573556   99.072382   \n",
       "min       0.000000   42.974768      15.372031       4.453716  -18.121266   \n",
       "25%       1.000000   99.000000      64.000000      22.000000   89.128299   \n",
       "50%       3.000000  116.500000      72.000000      28.000000  131.581251   \n",
       "75%       6.000000  140.118555      80.000000      34.444238  190.250000   \n",
       "max      17.000000  199.000000     122.000000      99.000000  846.000000   \n",
       "\n",
       "              BMI  DiabetesPedigreeFunction         Age     Outcome  \n",
       "count  712.000000                712.000000  712.000000  712.000000  \n",
       "mean    32.414805                  0.477538   33.428122    0.345506  \n",
       "std      7.014569                  0.336771   12.047187    0.475867  \n",
       "min      6.699051                  0.078000   21.000000    0.000000  \n",
       "25%     27.600000                  0.245000   24.000000    0.000000  \n",
       "50%     32.050000                  0.380000   29.000000    0.000000  \n",
       "75%     36.500000                  0.629500   41.000000    1.000000  \n",
       "max     67.100000                  2.420000   70.000000    1.000000  "
      ]
     },
     "execution_count": 889,
     "metadata": {},
     "output_type": "execute_result"
    }
   ],
   "source": [
    "predicted_values, nanIdx = linearRegressionPrediction(data, ['Glucose'], 'Insulin')\n",
    "data['Insulin'].loc[nanIdx] = predicted_values\n",
    "data.describe()"
   ]
  },
  {
   "cell_type": "markdown",
   "metadata": {},
   "source": [
    "# Feature Extraction"
   ]
  },
  {
   "cell_type": "markdown",
   "metadata": {},
   "source": [
    "# PCA"
   ]
  },
  {
   "cell_type": "code",
   "execution_count": 890,
   "metadata": {},
   "outputs": [],
   "source": [
    "'''\n",
    "principalComponentAnalysis takes data and new dimensionality and returns a dataframe in a new featurespace with the dimensionality as specified.\n",
    "'''\n",
    "def principalComponentAnalysis(data, newDimensionality):\n",
    "    #features are the existing features\n",
    "    features = data.columns\n",
    "    x = data.loc[:, features].values\n",
    "    \n",
    "    #standardising the data\n",
    "    x = StandardScaler().fit_transform(x)\n",
    "    \n",
    "    #creating the  instance of PCA and fitting it with the standardised data\n",
    "    pca = PCA(n_components = newDimensionality)\n",
    "    principalComponents = pca.fit_transform(x)\n",
    "    \n",
    "    #creating a new dataframe based on transformed data\n",
    "    data_pca = pd.DataFrame(data = principalComponents)\n",
    "    return data_pca"
   ]
  },
  {
   "cell_type": "code",
   "execution_count": 891,
   "metadata": {},
   "outputs": [],
   "source": [
    "data_wo_oc = data.copy()\n",
    "data_wo_oc = data_wo_oc.drop('Outcome', axis = 1)"
   ]
  },
  {
   "cell_type": "code",
   "execution_count": 892,
   "metadata": {
    "scrolled": true
   },
   "outputs": [
    {
     "data": {
      "text/html": [
       "<div>\n",
       "<style scoped>\n",
       "    .dataframe tbody tr th:only-of-type {\n",
       "        vertical-align: middle;\n",
       "    }\n",
       "\n",
       "    .dataframe tbody tr th {\n",
       "        vertical-align: top;\n",
       "    }\n",
       "\n",
       "    .dataframe thead th {\n",
       "        text-align: right;\n",
       "    }\n",
       "</style>\n",
       "<table border=\"1\" class=\"dataframe\">\n",
       "  <thead>\n",
       "    <tr style=\"text-align: right;\">\n",
       "      <th></th>\n",
       "      <th>0</th>\n",
       "      <th>1</th>\n",
       "      <th>2</th>\n",
       "      <th>Outcome</th>\n",
       "    </tr>\n",
       "  </thead>\n",
       "  <tbody>\n",
       "    <tr>\n",
       "      <th>0</th>\n",
       "      <td>1.632958</td>\n",
       "      <td>-0.754895</td>\n",
       "      <td>0.137377</td>\n",
       "      <td>1</td>\n",
       "    </tr>\n",
       "    <tr>\n",
       "      <th>1</th>\n",
       "      <td>-1.652352</td>\n",
       "      <td>0.297212</td>\n",
       "      <td>-0.415584</td>\n",
       "      <td>0</td>\n",
       "    </tr>\n",
       "    <tr>\n",
       "      <th>2</th>\n",
       "      <td>0.726071</td>\n",
       "      <td>-1.548922</td>\n",
       "      <td>2.400115</td>\n",
       "      <td>1</td>\n",
       "    </tr>\n",
       "    <tr>\n",
       "      <th>3</th>\n",
       "      <td>-2.530690</td>\n",
       "      <td>-0.126610</td>\n",
       "      <td>0.344218</td>\n",
       "      <td>0</td>\n",
       "    </tr>\n",
       "    <tr>\n",
       "      <th>4</th>\n",
       "      <td>0.922316</td>\n",
       "      <td>3.172624</td>\n",
       "      <td>1.668797</td>\n",
       "      <td>1</td>\n",
       "    </tr>\n",
       "    <tr>\n",
       "      <th>5</th>\n",
       "      <td>-0.867511</td>\n",
       "      <td>-0.954490</td>\n",
       "      <td>0.125162</td>\n",
       "      <td>0</td>\n",
       "    </tr>\n",
       "    <tr>\n",
       "      <th>6</th>\n",
       "      <td>-1.944145</td>\n",
       "      <td>0.788615</td>\n",
       "      <td>-0.318081</td>\n",
       "      <td>1</td>\n",
       "    </tr>\n",
       "    <tr>\n",
       "      <th>7</th>\n",
       "      <td>2.776575</td>\n",
       "      <td>0.749898</td>\n",
       "      <td>3.123704</td>\n",
       "      <td>1</td>\n",
       "    </tr>\n",
       "    <tr>\n",
       "      <th>8</th>\n",
       "      <td>1.707935</td>\n",
       "      <td>-2.790023</td>\n",
       "      <td>-1.433460</td>\n",
       "      <td>1</td>\n",
       "    </tr>\n",
       "    <tr>\n",
       "      <th>9</th>\n",
       "      <td>0.585375</td>\n",
       "      <td>0.232432</td>\n",
       "      <td>-1.342595</td>\n",
       "      <td>0</td>\n",
       "    </tr>\n",
       "    <tr>\n",
       "      <th>10</th>\n",
       "      <td>2.200586</td>\n",
       "      <td>-0.621153</td>\n",
       "      <td>0.329870</td>\n",
       "      <td>1</td>\n",
       "    </tr>\n",
       "    <tr>\n",
       "      <th>11</th>\n",
       "      <td>1.467257</td>\n",
       "      <td>-1.986502</td>\n",
       "      <td>0.385786</td>\n",
       "      <td>0</td>\n",
       "    </tr>\n",
       "    <tr>\n",
       "      <th>12</th>\n",
       "      <td>3.696233</td>\n",
       "      <td>-1.444756</td>\n",
       "      <td>5.395304</td>\n",
       "      <td>1</td>\n",
       "    </tr>\n",
       "    <tr>\n",
       "      <th>13</th>\n",
       "      <td>0.242012</td>\n",
       "      <td>-1.797918</td>\n",
       "      <td>0.836694</td>\n",
       "      <td>1</td>\n",
       "    </tr>\n",
       "    <tr>\n",
       "      <th>14</th>\n",
       "      <td>1.910959</td>\n",
       "      <td>2.191941</td>\n",
       "      <td>-0.758963</td>\n",
       "      <td>1</td>\n",
       "    </tr>\n",
       "    <tr>\n",
       "      <th>15</th>\n",
       "      <td>-0.509256</td>\n",
       "      <td>-0.837774</td>\n",
       "      <td>-0.600019</td>\n",
       "      <td>1</td>\n",
       "    </tr>\n",
       "    <tr>\n",
       "      <th>16</th>\n",
       "      <td>-0.988503</td>\n",
       "      <td>1.846107</td>\n",
       "      <td>-0.273716</td>\n",
       "      <td>0</td>\n",
       "    </tr>\n",
       "    <tr>\n",
       "      <th>17</th>\n",
       "      <td>-0.390193</td>\n",
       "      <td>0.783245</td>\n",
       "      <td>-0.228502</td>\n",
       "      <td>1</td>\n",
       "    </tr>\n",
       "    <tr>\n",
       "      <th>18</th>\n",
       "      <td>1.691284</td>\n",
       "      <td>1.281140</td>\n",
       "      <td>-0.356654</td>\n",
       "      <td>0</td>\n",
       "    </tr>\n",
       "    <tr>\n",
       "      <th>19</th>\n",
       "      <td>0.739079</td>\n",
       "      <td>-1.233042</td>\n",
       "      <td>-1.817295</td>\n",
       "      <td>0</td>\n",
       "    </tr>\n",
       "    <tr>\n",
       "      <th>20</th>\n",
       "      <td>3.423196</td>\n",
       "      <td>-0.622143</td>\n",
       "      <td>0.700712</td>\n",
       "      <td>1</td>\n",
       "    </tr>\n",
       "    <tr>\n",
       "      <th>21</th>\n",
       "      <td>0.385254</td>\n",
       "      <td>-0.835917</td>\n",
       "      <td>-0.843498</td>\n",
       "      <td>1</td>\n",
       "    </tr>\n",
       "    <tr>\n",
       "      <th>22</th>\n",
       "      <td>2.132796</td>\n",
       "      <td>-1.966198</td>\n",
       "      <td>-1.594773</td>\n",
       "      <td>1</td>\n",
       "    </tr>\n",
       "    <tr>\n",
       "      <th>23</th>\n",
       "      <td>0.129400</td>\n",
       "      <td>-1.700220</td>\n",
       "      <td>-0.744401</td>\n",
       "      <td>1</td>\n",
       "    </tr>\n",
       "    <tr>\n",
       "      <th>24</th>\n",
       "      <td>1.777799</td>\n",
       "      <td>-0.550590</td>\n",
       "      <td>-0.417464</td>\n",
       "      <td>1</td>\n",
       "    </tr>\n",
       "    <tr>\n",
       "      <th>25</th>\n",
       "      <td>-2.147336</td>\n",
       "      <td>-0.050659</td>\n",
       "      <td>0.959261</td>\n",
       "      <td>0</td>\n",
       "    </tr>\n",
       "    <tr>\n",
       "      <th>26</th>\n",
       "      <td>0.517829</td>\n",
       "      <td>-3.893781</td>\n",
       "      <td>-0.603929</td>\n",
       "      <td>0</td>\n",
       "    </tr>\n",
       "    <tr>\n",
       "      <th>27</th>\n",
       "      <td>-0.437759</td>\n",
       "      <td>0.224757</td>\n",
       "      <td>-1.733534</td>\n",
       "      <td>0</td>\n",
       "    </tr>\n",
       "    <tr>\n",
       "      <th>28</th>\n",
       "      <td>0.670222</td>\n",
       "      <td>-1.201053</td>\n",
       "      <td>-0.941485</td>\n",
       "      <td>0</td>\n",
       "    </tr>\n",
       "    <tr>\n",
       "      <th>29</th>\n",
       "      <td>1.305327</td>\n",
       "      <td>0.688629</td>\n",
       "      <td>1.092143</td>\n",
       "      <td>1</td>\n",
       "    </tr>\n",
       "    <tr>\n",
       "      <th>...</th>\n",
       "      <td>...</td>\n",
       "      <td>...</td>\n",
       "      <td>...</td>\n",
       "      <td>...</td>\n",
       "    </tr>\n",
       "    <tr>\n",
       "      <th>682</th>\n",
       "      <td>-1.061133</td>\n",
       "      <td>-1.012756</td>\n",
       "      <td>-1.831672</td>\n",
       "      <td>0</td>\n",
       "    </tr>\n",
       "    <tr>\n",
       "      <th>683</th>\n",
       "      <td>0.238779</td>\n",
       "      <td>0.675059</td>\n",
       "      <td>-1.094532</td>\n",
       "      <td>1</td>\n",
       "    </tr>\n",
       "    <tr>\n",
       "      <th>684</th>\n",
       "      <td>1.452479</td>\n",
       "      <td>0.888873</td>\n",
       "      <td>-0.786959</td>\n",
       "      <td>1</td>\n",
       "    </tr>\n",
       "    <tr>\n",
       "      <th>685</th>\n",
       "      <td>-2.017767</td>\n",
       "      <td>0.319157</td>\n",
       "      <td>0.584998</td>\n",
       "      <td>0</td>\n",
       "    </tr>\n",
       "    <tr>\n",
       "      <th>686</th>\n",
       "      <td>-1.714850</td>\n",
       "      <td>-0.202397</td>\n",
       "      <td>0.621911</td>\n",
       "      <td>0</td>\n",
       "    </tr>\n",
       "    <tr>\n",
       "      <th>687</th>\n",
       "      <td>1.840104</td>\n",
       "      <td>-1.456865</td>\n",
       "      <td>-0.563558</td>\n",
       "      <td>1</td>\n",
       "    </tr>\n",
       "    <tr>\n",
       "      <th>688</th>\n",
       "      <td>2.760724</td>\n",
       "      <td>-0.622044</td>\n",
       "      <td>-1.201410</td>\n",
       "      <td>0</td>\n",
       "    </tr>\n",
       "    <tr>\n",
       "      <th>689</th>\n",
       "      <td>0.435094</td>\n",
       "      <td>-2.165541</td>\n",
       "      <td>-1.643054</td>\n",
       "      <td>0</td>\n",
       "    </tr>\n",
       "    <tr>\n",
       "      <th>690</th>\n",
       "      <td>2.352454</td>\n",
       "      <td>1.848295</td>\n",
       "      <td>-0.728674</td>\n",
       "      <td>1</td>\n",
       "    </tr>\n",
       "    <tr>\n",
       "      <th>691</th>\n",
       "      <td>0.474554</td>\n",
       "      <td>2.458690</td>\n",
       "      <td>-1.719262</td>\n",
       "      <td>0</td>\n",
       "    </tr>\n",
       "    <tr>\n",
       "      <th>692</th>\n",
       "      <td>1.046846</td>\n",
       "      <td>-0.270086</td>\n",
       "      <td>1.411963</td>\n",
       "      <td>1</td>\n",
       "    </tr>\n",
       "    <tr>\n",
       "      <th>693</th>\n",
       "      <td>-0.349397</td>\n",
       "      <td>-0.949043</td>\n",
       "      <td>1.861475</td>\n",
       "      <td>1</td>\n",
       "    </tr>\n",
       "    <tr>\n",
       "      <th>694</th>\n",
       "      <td>0.104419</td>\n",
       "      <td>0.875845</td>\n",
       "      <td>1.180730</td>\n",
       "      <td>1</td>\n",
       "    </tr>\n",
       "    <tr>\n",
       "      <th>695</th>\n",
       "      <td>0.236374</td>\n",
       "      <td>1.308108</td>\n",
       "      <td>-1.033069</td>\n",
       "      <td>0</td>\n",
       "    </tr>\n",
       "    <tr>\n",
       "      <th>696</th>\n",
       "      <td>-1.528539</td>\n",
       "      <td>-0.133955</td>\n",
       "      <td>0.387118</td>\n",
       "      <td>0</td>\n",
       "    </tr>\n",
       "    <tr>\n",
       "      <th>697</th>\n",
       "      <td>3.591901</td>\n",
       "      <td>1.559532</td>\n",
       "      <td>1.833089</td>\n",
       "      <td>1</td>\n",
       "    </tr>\n",
       "    <tr>\n",
       "      <th>698</th>\n",
       "      <td>1.664468</td>\n",
       "      <td>-1.273883</td>\n",
       "      <td>0.111360</td>\n",
       "      <td>1</td>\n",
       "    </tr>\n",
       "    <tr>\n",
       "      <th>699</th>\n",
       "      <td>1.212964</td>\n",
       "      <td>1.192932</td>\n",
       "      <td>-0.624058</td>\n",
       "      <td>1</td>\n",
       "    </tr>\n",
       "    <tr>\n",
       "      <th>700</th>\n",
       "      <td>1.698845</td>\n",
       "      <td>-0.613475</td>\n",
       "      <td>-0.829032</td>\n",
       "      <td>0</td>\n",
       "    </tr>\n",
       "    <tr>\n",
       "      <th>701</th>\n",
       "      <td>0.543257</td>\n",
       "      <td>-0.016355</td>\n",
       "      <td>-0.266956</td>\n",
       "      <td>1</td>\n",
       "    </tr>\n",
       "    <tr>\n",
       "      <th>702</th>\n",
       "      <td>-0.249087</td>\n",
       "      <td>1.072812</td>\n",
       "      <td>-0.705838</td>\n",
       "      <td>0</td>\n",
       "    </tr>\n",
       "    <tr>\n",
       "      <th>703</th>\n",
       "      <td>3.381313</td>\n",
       "      <td>-2.131733</td>\n",
       "      <td>0.464930</td>\n",
       "      <td>1</td>\n",
       "    </tr>\n",
       "    <tr>\n",
       "      <th>704</th>\n",
       "      <td>-2.058206</td>\n",
       "      <td>0.931774</td>\n",
       "      <td>-0.224143</td>\n",
       "      <td>0</td>\n",
       "    </tr>\n",
       "    <tr>\n",
       "      <th>705</th>\n",
       "      <td>2.578646</td>\n",
       "      <td>-0.701826</td>\n",
       "      <td>0.116936</td>\n",
       "      <td>1</td>\n",
       "    </tr>\n",
       "    <tr>\n",
       "      <th>706</th>\n",
       "      <td>-2.369208</td>\n",
       "      <td>-0.573493</td>\n",
       "      <td>0.189422</td>\n",
       "      <td>0</td>\n",
       "    </tr>\n",
       "    <tr>\n",
       "      <th>707</th>\n",
       "      <td>1.796313</td>\n",
       "      <td>-1.699778</td>\n",
       "      <td>-2.071325</td>\n",
       "      <td>0</td>\n",
       "    </tr>\n",
       "    <tr>\n",
       "      <th>708</th>\n",
       "      <td>-0.174208</td>\n",
       "      <td>0.680811</td>\n",
       "      <td>0.115543</td>\n",
       "      <td>0</td>\n",
       "    </tr>\n",
       "    <tr>\n",
       "      <th>709</th>\n",
       "      <td>-0.888267</td>\n",
       "      <td>-0.831461</td>\n",
       "      <td>0.051900</td>\n",
       "      <td>0</td>\n",
       "    </tr>\n",
       "    <tr>\n",
       "      <th>710</th>\n",
       "      <td>-0.334701</td>\n",
       "      <td>-0.391268</td>\n",
       "      <td>0.625850</td>\n",
       "      <td>1</td>\n",
       "    </tr>\n",
       "    <tr>\n",
       "      <th>711</th>\n",
       "      <td>-1.257695</td>\n",
       "      <td>0.870373</td>\n",
       "      <td>-0.433776</td>\n",
       "      <td>0</td>\n",
       "    </tr>\n",
       "  </tbody>\n",
       "</table>\n",
       "<p>712 rows × 4 columns</p>\n",
       "</div>"
      ],
      "text/plain": [
       "            0         1         2  Outcome\n",
       "0    1.632958 -0.754895  0.137377        1\n",
       "1   -1.652352  0.297212 -0.415584        0\n",
       "2    0.726071 -1.548922  2.400115        1\n",
       "3   -2.530690 -0.126610  0.344218        0\n",
       "4    0.922316  3.172624  1.668797        1\n",
       "5   -0.867511 -0.954490  0.125162        0\n",
       "6   -1.944145  0.788615 -0.318081        1\n",
       "7    2.776575  0.749898  3.123704        1\n",
       "8    1.707935 -2.790023 -1.433460        1\n",
       "9    0.585375  0.232432 -1.342595        0\n",
       "10   2.200586 -0.621153  0.329870        1\n",
       "11   1.467257 -1.986502  0.385786        0\n",
       "12   3.696233 -1.444756  5.395304        1\n",
       "13   0.242012 -1.797918  0.836694        1\n",
       "14   1.910959  2.191941 -0.758963        1\n",
       "15  -0.509256 -0.837774 -0.600019        1\n",
       "16  -0.988503  1.846107 -0.273716        0\n",
       "17  -0.390193  0.783245 -0.228502        1\n",
       "18   1.691284  1.281140 -0.356654        0\n",
       "19   0.739079 -1.233042 -1.817295        0\n",
       "20   3.423196 -0.622143  0.700712        1\n",
       "21   0.385254 -0.835917 -0.843498        1\n",
       "22   2.132796 -1.966198 -1.594773        1\n",
       "23   0.129400 -1.700220 -0.744401        1\n",
       "24   1.777799 -0.550590 -0.417464        1\n",
       "25  -2.147336 -0.050659  0.959261        0\n",
       "26   0.517829 -3.893781 -0.603929        0\n",
       "27  -0.437759  0.224757 -1.733534        0\n",
       "28   0.670222 -1.201053 -0.941485        0\n",
       "29   1.305327  0.688629  1.092143        1\n",
       "..        ...       ...       ...      ...\n",
       "682 -1.061133 -1.012756 -1.831672        0\n",
       "683  0.238779  0.675059 -1.094532        1\n",
       "684  1.452479  0.888873 -0.786959        1\n",
       "685 -2.017767  0.319157  0.584998        0\n",
       "686 -1.714850 -0.202397  0.621911        0\n",
       "687  1.840104 -1.456865 -0.563558        1\n",
       "688  2.760724 -0.622044 -1.201410        0\n",
       "689  0.435094 -2.165541 -1.643054        0\n",
       "690  2.352454  1.848295 -0.728674        1\n",
       "691  0.474554  2.458690 -1.719262        0\n",
       "692  1.046846 -0.270086  1.411963        1\n",
       "693 -0.349397 -0.949043  1.861475        1\n",
       "694  0.104419  0.875845  1.180730        1\n",
       "695  0.236374  1.308108 -1.033069        0\n",
       "696 -1.528539 -0.133955  0.387118        0\n",
       "697  3.591901  1.559532  1.833089        1\n",
       "698  1.664468 -1.273883  0.111360        1\n",
       "699  1.212964  1.192932 -0.624058        1\n",
       "700  1.698845 -0.613475 -0.829032        0\n",
       "701  0.543257 -0.016355 -0.266956        1\n",
       "702 -0.249087  1.072812 -0.705838        0\n",
       "703  3.381313 -2.131733  0.464930        1\n",
       "704 -2.058206  0.931774 -0.224143        0\n",
       "705  2.578646 -0.701826  0.116936        1\n",
       "706 -2.369208 -0.573493  0.189422        0\n",
       "707  1.796313 -1.699778 -2.071325        0\n",
       "708 -0.174208  0.680811  0.115543        0\n",
       "709 -0.888267 -0.831461  0.051900        0\n",
       "710 -0.334701 -0.391268  0.625850        1\n",
       "711 -1.257695  0.870373 -0.433776        0\n",
       "\n",
       "[712 rows x 4 columns]"
      ]
     },
     "execution_count": 892,
     "metadata": {},
     "output_type": "execute_result"
    }
   ],
   "source": [
    "data_pca = principalComponentAnalysis(data_wo_oc, 3)\n",
    "data_pca = data_pca.assign(Outcome = np.array(data['Outcome']))\n",
    "data_pca"
   ]
  },
  {
   "cell_type": "markdown",
   "metadata": {},
   "source": [
    "# Model Building"
   ]
  },
  {
   "cell_type": "markdown",
   "metadata": {},
   "source": [
    "# Logistic Regression"
   ]
  },
  {
   "cell_type": "code",
   "execution_count": 893,
   "metadata": {},
   "outputs": [],
   "source": [
    "'''\n",
    "datasplit is an utility function which ensures that after the split the training set has same ratio of instances\n",
    "which are false and true as that in entire dataset.It is used to ensure that the split which happens is not biased\n",
    "towards a particular outcome.\n",
    "'''\n",
    "def dataSplit(data, percent_test, outFeature, seed):\n",
    "    np.random.seed(seed)\n",
    "    lol_dat = data.copy().drop([outFeature], axis = 1)\n",
    "    dat = pd.DataFrame(data[outFeature], columns  = [outFeature])\n",
    "    dat1 = pd.DataFrame(dat[dat.Outcome == 1])\n",
    "    dat0 = pd.DataFrame(dat[dat.Outcome == 0])\n",
    "    len1 = dat1.shape[0]\n",
    "    len2 = dat0.shape[0]\n",
    "    percentToTrain = (1 - percent_test)\n",
    "    dat1_shuffle = np.array(dat1.index)\n",
    "    dat0_shuffle = np.array(dat0.index)\n",
    "    np.random.shuffle(dat1_shuffle)\n",
    "    np.random.shuffle(dat0_shuffle)\n",
    "    a0 = dat1_shuffle[:int(percentToTrain*len1)]\n",
    "    b0 = dat0_shuffle[:int(percentToTrain*len2)]\n",
    "    a1 = dat1_shuffle[int(percent_test*len1):]\n",
    "    b1 = dat0_shuffle[int(percent_test*len2):]\n",
    "    train_idx = np.concatenate([a0, b0])\n",
    "    test_idx = np.concatenate([a1, b1])\n",
    "    X_train = lol_dat.loc[train_idx]\n",
    "    X_test = lol_dat.loc[test_idx]\n",
    "    y_train = data['Outcome'].loc[train_idx]\n",
    "    y_test = data['Outcome'].loc[test_idx]\n",
    "    return X_train, X_test, y_train, y_test"
   ]
  },
  {
   "cell_type": "code",
   "execution_count": 894,
   "metadata": {},
   "outputs": [],
   "source": [
    "'''\n",
    "logisticRegression\n",
    "we are using logisticRegression to accuratley classify the patient as diabetic or not.\n",
    "This funtion takes data and tagetFeature(Outcome) and testPercent\n",
    "\n",
    "data - the input data after datapreprocessing and feature extraction\n",
    "\n",
    "targetFeature - the targetFeature which we are trying to predict\n",
    "\n",
    "splitratio - the ratio of splitting data into testing and training sets\n",
    "\n",
    "this function returns final report which contains training,testing sets and classification_report.\n",
    "'''\n",
    "\n",
    "def logisticRegression(data, tarFeature, splitratio):\n",
    "    dat = data.copy()\n",
    "    X_train, X_test, y_train, y_test = dataSplit(dat, splitratio, tarFeature, 3)\n",
    "    print(y_train, y_test)\n",
    "    logmodel = LogisticRegression()\n",
    "    logmodel.fit(X_train, y_train)\n",
    "    predictions = logmodel.predict(X_test)\n",
    "    report = {}\n",
    "    report['X_TRAIN'] = np.array(X_train)\n",
    "    report['X_TEST'] = np.array(X_test)\n",
    "    report['Y_TRAIN'] = np.array(y_train)\n",
    "    report['Y_TEST'] = np.array(y_test)\n",
    "    report['TRAIN_DATA_INDEX'] = np.array(X_train.index)\n",
    "    report['TEST_DATA_INDEX'] = np.array(X_test.index)\n",
    "    report['FINAL_REPORT'] = classification_report(y_test,predictions)\n",
    "    return report"
   ]
  },
  {
   "cell_type": "code",
   "execution_count": 895,
   "metadata": {
    "scrolled": true
   },
   "outputs": [
    {
     "name": "stdout",
     "output_type": "stream",
     "text": [
      "266    1\n",
      "226    1\n",
      "365    1\n",
      "290    1\n",
      "362    1\n",
      "337    1\n",
      "10     1\n",
      "198    1\n",
      "625    1\n",
      "699    1\n",
      "46     1\n",
      "22     1\n",
      "567    1\n",
      "664    1\n",
      "178    1\n",
      "188    1\n",
      "616    1\n",
      "628    1\n",
      "80     1\n",
      "6      1\n",
      "594    1\n",
      "295    1\n",
      "477    1\n",
      "518    1\n",
      "289    1\n",
      "587    1\n",
      "166    1\n",
      "368    1\n",
      "617    1\n",
      "703    1\n",
      "      ..\n",
      "292    0\n",
      "26     0\n",
      "142    0\n",
      "486    0\n",
      "418    0\n",
      "227    0\n",
      "481    0\n",
      "437    0\n",
      "89     0\n",
      "559    0\n",
      "138    0\n",
      "140    0\n",
      "639    0\n",
      "441    0\n",
      "228    0\n",
      "547    0\n",
      "450    0\n",
      "466    0\n",
      "539    0\n",
      "47     0\n",
      "261    0\n",
      "262    0\n",
      "511    0\n",
      "480    0\n",
      "64     0\n",
      "206    0\n",
      "681    0\n",
      "385    0\n",
      "593    0\n",
      "489    0\n",
      "Name: Outcome, Length: 533, dtype: int64 415    1\n",
      "371    1\n",
      "498    1\n",
      "15     1\n",
      "565    1\n",
      "20     1\n",
      "411    1\n",
      "694    1\n",
      "502    1\n",
      "123    1\n",
      "633    1\n",
      "309    1\n",
      "112    1\n",
      "177    1\n",
      "660    1\n",
      "276    1\n",
      "274    1\n",
      "215    1\n",
      "677    1\n",
      "389    1\n",
      "598    1\n",
      "146    1\n",
      "675    1\n",
      "230    1\n",
      "610    1\n",
      "400    1\n",
      "224    1\n",
      "334    1\n",
      "614    1\n",
      "29     1\n",
      "      ..\n",
      "126    0\n",
      "63     0\n",
      "409    0\n",
      "377    0\n",
      "609    0\n",
      "354    0\n",
      "485    0\n",
      "199    0\n",
      "363    0\n",
      "394    0\n",
      "72     0\n",
      "11     0\n",
      "573    0\n",
      "643    0\n",
      "596    0\n",
      "95     0\n",
      "99     0\n",
      "69     0\n",
      "169    0\n",
      "408    0\n",
      "367    0\n",
      "569    0\n",
      "327    0\n",
      "487    0\n",
      "239    0\n",
      "689    0\n",
      "18     0\n",
      "528    0\n",
      "454    0\n",
      "435    0\n",
      "Name: Outcome, Length: 535, dtype: int64\n"
     ]
    },
    {
     "name": "stderr",
     "output_type": "stream",
     "text": [
      "/usr/local/lib/python3.6/dist-packages/sklearn/linear_model/logistic.py:432: FutureWarning: Default solver will be changed to 'lbfgs' in 0.22. Specify a solver to silence this warning.\n",
      "  FutureWarning)\n"
     ]
    }
   ],
   "source": [
    "final = logisticRegression(data_pca, 'Outcome', 0.25)\n",
    "# final"
   ]
  },
  {
   "cell_type": "code",
   "execution_count": 896,
   "metadata": {},
   "outputs": [
    {
     "name": "stdout",
     "output_type": "stream",
     "text": [
      "              precision    recall  f1-score   support\n",
      "\n",
      "           0       0.78      0.87      0.82       350\n",
      "           1       0.68      0.54      0.60       185\n",
      "\n",
      "    accuracy                           0.75       535\n",
      "   macro avg       0.73      0.70      0.71       535\n",
      "weighted avg       0.75      0.75      0.75       535\n",
      "\n"
     ]
    }
   ],
   "source": [
    "print(final['FINAL_REPORT'])"
   ]
  }
 ],
 "metadata": {
  "kernelspec": {
   "display_name": "Python 3",
   "language": "python",
   "name": "python3"
  },
  "language_info": {
   "codemirror_mode": {
    "name": "ipython",
    "version": 3
   },
   "file_extension": ".py",
   "mimetype": "text/x-python",
   "name": "python",
   "nbconvert_exporter": "python",
   "pygments_lexer": "ipython3",
   "version": "3.6.8"
  }
 },
 "nbformat": 4,
 "nbformat_minor": 2
}
